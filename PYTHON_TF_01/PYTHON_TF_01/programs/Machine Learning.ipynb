{
 "cells": [
  {
   "cell_type": "markdown",
   "metadata": {},
   "source": [
    "# <span style=\"color:red\">**Machine Learnig**</span>\n"
   ]
  },
  {
   "cell_type": "code",
   "execution_count": 1,
   "metadata": {},
   "outputs": [],
   "source": [
    "import pandas as pd\n",
    "import numpy as np\n",
    "import matplotlib.pyplot as plt\n",
    "import seaborn as sns\n",
    "\n"
   ]
  },
  {
   "cell_type": "code",
   "execution_count": 2,
   "metadata": {},
   "outputs": [
    {
     "name": "stdout",
     "output_type": "stream",
     "text": [
      "Requirement already satisfied: scikit-learn in c:\\python\\python311\\lib\\site-packages (1.5.2)\n",
      "Requirement already satisfied: numpy>=1.19.5 in c:\\python\\python311\\lib\\site-packages (from scikit-learn) (1.25.2)\n",
      "Requirement already satisfied: scipy>=1.6.0 in c:\\python\\python311\\lib\\site-packages (from scikit-learn) (1.14.1)\n",
      "Requirement already satisfied: joblib>=1.2.0 in c:\\python\\python311\\lib\\site-packages (from scikit-learn) (1.4.2)\n",
      "Requirement already satisfied: threadpoolctl>=3.1.0 in c:\\python\\python311\\lib\\site-packages (from scikit-learn) (3.5.0)\n",
      "Note: you may need to restart the kernel to use updated packages.\n"
     ]
    },
    {
     "name": "stderr",
     "output_type": "stream",
     "text": [
      "\n",
      "[notice] A new release of pip is available: 24.0 -> 24.3.1\n",
      "[notice] To update, run: python.exe -m pip install --upgrade pip\n"
     ]
    }
   ],
   "source": [
    "pip install scikit-learn\n"
   ]
  },
  {
   "cell_type": "code",
   "execution_count": 3,
   "metadata": {},
   "outputs": [],
   "source": [
    "Base_Lambayeque = \"../data/final/base_lambayeque_final.xlsx\"  # Reemplaza con la ruta de tu archivo\n",
    "df = pd.read_excel(Base_Lambayeque)"
   ]
  },
  {
   "cell_type": "code",
   "execution_count": 4,
   "metadata": {},
   "outputs": [
    {
     "data": {
      "text/html": [
       "<div>\n",
       "<style scoped>\n",
       "    .dataframe tbody tr th:only-of-type {\n",
       "        vertical-align: middle;\n",
       "    }\n",
       "\n",
       "    .dataframe tbody tr th {\n",
       "        vertical-align: top;\n",
       "    }\n",
       "\n",
       "    .dataframe thead th {\n",
       "        text-align: right;\n",
       "    }\n",
       "</style>\n",
       "<table border=\"1\" class=\"dataframe\">\n",
       "  <thead>\n",
       "    <tr style=\"text-align: right;\">\n",
       "      <th></th>\n",
       "      <th>age</th>\n",
       "      <th>civil</th>\n",
       "      <th>jefe</th>\n",
       "      <th>lenguacat</th>\n",
       "      <th>educ</th>\n",
       "      <th>estatal</th>\n",
       "      <th>pobreza</th>\n",
       "      <th>male</th>\n",
       "      <th>age_sq</th>\n",
       "      <th>raza</th>\n",
       "      <th>urban</th>\n",
       "      <th>zona</th>\n",
       "      <th>h_skill</th>\n",
       "      <th>m_skill</th>\n",
       "      <th>l_skill</th>\n",
       "      <th>ramactsec</th>\n",
       "      <th>contrato</th>\n",
       "      <th>exper</th>\n",
       "      <th>exper_sq</th>\n",
       "      <th>ln_ing_lab</th>\n",
       "    </tr>\n",
       "  </thead>\n",
       "  <tbody>\n",
       "    <tr>\n",
       "      <th>0</th>\n",
       "      <td>38</td>\n",
       "      <td>Casado(a)</td>\n",
       "      <td>1</td>\n",
       "      <td>Castellano</td>\n",
       "      <td>Secundaria</td>\n",
       "      <td>1</td>\n",
       "      <td>0</td>\n",
       "      <td>1</td>\n",
       "      <td>1444</td>\n",
       "      <td>Mestizo</td>\n",
       "      <td>1</td>\n",
       "      <td>Costa</td>\n",
       "      <td>0</td>\n",
       "      <td>0</td>\n",
       "      <td>1</td>\n",
       "      <td>Sector Secundario</td>\n",
       "      <td>0.0</td>\n",
       "      <td>21</td>\n",
       "      <td>441</td>\n",
       "      <td>7.166202</td>\n",
       "    </tr>\n",
       "    <tr>\n",
       "      <th>1</th>\n",
       "      <td>50</td>\n",
       "      <td>Separado(a)</td>\n",
       "      <td>1</td>\n",
       "      <td>Castellano</td>\n",
       "      <td>Primaria</td>\n",
       "      <td>1</td>\n",
       "      <td>0</td>\n",
       "      <td>0</td>\n",
       "      <td>2500</td>\n",
       "      <td>Blanco</td>\n",
       "      <td>1</td>\n",
       "      <td>Costa</td>\n",
       "      <td>0</td>\n",
       "      <td>1</td>\n",
       "      <td>0</td>\n",
       "      <td>Sector Primario</td>\n",
       "      <td>NaN</td>\n",
       "      <td>41</td>\n",
       "      <td>1681</td>\n",
       "      <td>4.840517</td>\n",
       "    </tr>\n",
       "    <tr>\n",
       "      <th>2</th>\n",
       "      <td>44</td>\n",
       "      <td>Separado(a)</td>\n",
       "      <td>1</td>\n",
       "      <td>Castellano</td>\n",
       "      <td>Primaria</td>\n",
       "      <td>1</td>\n",
       "      <td>1</td>\n",
       "      <td>0</td>\n",
       "      <td>1936</td>\n",
       "      <td>Mestizo</td>\n",
       "      <td>1</td>\n",
       "      <td>Costa</td>\n",
       "      <td>0</td>\n",
       "      <td>1</td>\n",
       "      <td>0</td>\n",
       "      <td>Sector Secundario</td>\n",
       "      <td>0.0</td>\n",
       "      <td>32</td>\n",
       "      <td>1024</td>\n",
       "      <td>7.005562</td>\n",
       "    </tr>\n",
       "    <tr>\n",
       "      <th>3</th>\n",
       "      <td>25</td>\n",
       "      <td>Soltero(a)</td>\n",
       "      <td>0</td>\n",
       "      <td>Castellano</td>\n",
       "      <td>Secundaria</td>\n",
       "      <td>1</td>\n",
       "      <td>1</td>\n",
       "      <td>1</td>\n",
       "      <td>625</td>\n",
       "      <td>Mestizo</td>\n",
       "      <td>1</td>\n",
       "      <td>Costa</td>\n",
       "      <td>0</td>\n",
       "      <td>0</td>\n",
       "      <td>1</td>\n",
       "      <td>Sector Terciario</td>\n",
       "      <td>0.0</td>\n",
       "      <td>10</td>\n",
       "      <td>100</td>\n",
       "      <td>6.904583</td>\n",
       "    </tr>\n",
       "    <tr>\n",
       "      <th>4</th>\n",
       "      <td>52</td>\n",
       "      <td>Casado(a)</td>\n",
       "      <td>1</td>\n",
       "      <td>Castellano</td>\n",
       "      <td>Superior universitaria</td>\n",
       "      <td>1</td>\n",
       "      <td>0</td>\n",
       "      <td>1</td>\n",
       "      <td>2704</td>\n",
       "      <td>Mestizo</td>\n",
       "      <td>1</td>\n",
       "      <td>Costa</td>\n",
       "      <td>1</td>\n",
       "      <td>0</td>\n",
       "      <td>0</td>\n",
       "      <td>Sector Terciario</td>\n",
       "      <td>0.0</td>\n",
       "      <td>30</td>\n",
       "      <td>900</td>\n",
       "      <td>8.090530</td>\n",
       "    </tr>\n",
       "  </tbody>\n",
       "</table>\n",
       "</div>"
      ],
      "text/plain": [
       "   age        civil  jefe   lenguacat                    educ  estatal  \\\n",
       "0   38    Casado(a)     1  Castellano              Secundaria        1   \n",
       "1   50  Separado(a)     1  Castellano                Primaria        1   \n",
       "2   44  Separado(a)     1  Castellano                Primaria        1   \n",
       "3   25   Soltero(a)     0  Castellano              Secundaria        1   \n",
       "4   52    Casado(a)     1  Castellano  Superior universitaria        1   \n",
       "\n",
       "   pobreza  male  age_sq     raza  urban   zona  h_skill  m_skill  l_skill  \\\n",
       "0        0     1    1444  Mestizo      1  Costa        0        0        1   \n",
       "1        0     0    2500   Blanco      1  Costa        0        1        0   \n",
       "2        1     0    1936  Mestizo      1  Costa        0        1        0   \n",
       "3        1     1     625  Mestizo      1  Costa        0        0        1   \n",
       "4        0     1    2704  Mestizo      1  Costa        1        0        0   \n",
       "\n",
       "           ramactsec  contrato  exper  exper_sq  ln_ing_lab  \n",
       "0  Sector Secundario       0.0     21       441    7.166202  \n",
       "1    Sector Primario       NaN     41      1681    4.840517  \n",
       "2  Sector Secundario       0.0     32      1024    7.005562  \n",
       "3   Sector Terciario       0.0     10       100    6.904583  \n",
       "4   Sector Terciario       0.0     30       900    8.090530  "
      ]
     },
     "execution_count": 4,
     "metadata": {},
     "output_type": "execute_result"
    }
   ],
   "source": [
    "\n",
    "df.head()"
   ]
  },
  {
   "cell_type": "markdown",
   "metadata": {},
   "source": [
    "Comenzamos..."
   ]
  },
  {
   "cell_type": "code",
   "execution_count": 5,
   "metadata": {},
   "outputs": [
    {
     "name": "stdout",
     "output_type": "stream",
     "text": [
      "<class 'pandas.core.frame.DataFrame'>\n",
      "RangeIndex: 2442 entries, 0 to 2441\n",
      "Data columns (total 20 columns):\n",
      " #   Column      Non-Null Count  Dtype  \n",
      "---  ------      --------------  -----  \n",
      " 0   age         2442 non-null   int64  \n",
      " 1   civil       2442 non-null   object \n",
      " 2   jefe        2442 non-null   int64  \n",
      " 3   lenguacat   2442 non-null   object \n",
      " 4   educ        2442 non-null   object \n",
      " 5   estatal     2442 non-null   int64  \n",
      " 6   pobreza     2442 non-null   int64  \n",
      " 7   male        2442 non-null   int64  \n",
      " 8   age_sq      2442 non-null   int64  \n",
      " 9   raza        2442 non-null   object \n",
      " 10  urban       2442 non-null   int64  \n",
      " 11  zona        2442 non-null   object \n",
      " 12  h_skill     2442 non-null   int64  \n",
      " 13  m_skill     2442 non-null   int64  \n",
      " 14  l_skill     2442 non-null   int64  \n",
      " 15  ramactsec   2442 non-null   object \n",
      " 16  contrato    1327 non-null   float64\n",
      " 17  exper       2442 non-null   int64  \n",
      " 18  exper_sq    2442 non-null   int64  \n",
      " 19  ln_ing_lab  2442 non-null   float64\n",
      "dtypes: float64(2), int64(12), object(6)\n",
      "memory usage: 381.7+ KB\n",
      "None\n"
     ]
    }
   ],
   "source": [
    "print(df.info())"
   ]
  },
  {
   "cell_type": "code",
   "execution_count": 6,
   "metadata": {},
   "outputs": [],
   "source": [
    "#PARA EVALUAR LOS MISSINGS\n",
    "# ! NO MODIFICAR\n",
    "# * Función creada para contar el porcentaje de missings existente por cada variable\n",
    "\n",
    "def msv_1(data, thresh = 20, color = 'black', edgecolor = 'black', height = 3, width = 15):\n",
    "    \n",
    "    plt.figure(figsize = (width, height))\n",
    "    percentage = (data.isnull().mean()) * 100\n",
    "    percentage.sort_values(ascending = False).plot.bar(color = color, edgecolor = edgecolor)\n",
    "    plt.axhline(y = thresh, color = 'r', linestyle = '-')\n",
    "    \n",
    "    plt.title('Porcentaje de missing values por columna', fontsize=20, weight='bold' , y=1.1)\n",
    "    \n",
    "    plt.text(len(data.isnull().sum()/len(data))/1.7, thresh+2.5, f'Columns con más de {thresh}% missing values', fontsize=12, color='crimson',\n",
    "         ha='left' ,va='top')\n",
    "    plt.text(len(data.isnull().sum()/len(data))/1.7, thresh - 0.5, f'Columnas con menos de {thresh}% missing values', fontsize=12, color='green',\n",
    "         ha='left' ,va='top')\n",
    "    plt.xlabel('Columnas', size=15, weight='bold')\n",
    "    plt.ylabel('Porcentaje de missing values')\n",
    "    plt.yticks(weight ='bold')\n",
    "    \n",
    "    return plt.show()"
   ]
  },
  {
   "cell_type": "code",
   "execution_count": 7,
   "metadata": {},
   "outputs": [
    {
     "data": {
      "image/png": "[encoded data removed]",
      "text/plain": [
       "<Figure size 1500x300 with 1 Axes>"
      ]
     },
     "metadata": {},
     "output_type": "display_data"
    }
   ],
   "source": [
    "msv_1(df, 20, color=sns.color_palette('Reds',15)) ## LA VARIABLE CONTRATO TIENE MUCHOS MISSINGS"
   ]
  },
  {
   "cell_type": "markdown",
   "metadata": {},
   "source": [
    "DEFINIMOS LAS VARIABLES INDEPENDIENTES Y DEPENDIENTES"
   ]
  },
  {
   "cell_type": "code",
   "execution_count": 8,
   "metadata": {},
   "outputs": [
    {
     "data": {
      "text/html": [
       "<div>\n",
       "<style scoped>\n",
       "    .dataframe tbody tr th:only-of-type {\n",
       "        vertical-align: middle;\n",
       "    }\n",
       "\n",
       "    .dataframe tbody tr th {\n",
       "        vertical-align: top;\n",
       "    }\n",
       "\n",
       "    .dataframe thead th {\n",
       "        text-align: right;\n",
       "    }\n",
       "</style>\n",
       "<table border=\"1\" class=\"dataframe\">\n",
       "  <thead>\n",
       "    <tr style=\"text-align: right;\">\n",
       "      <th></th>\n",
       "      <th>age</th>\n",
       "      <th>civil</th>\n",
       "      <th>jefe</th>\n",
       "      <th>lenguacat</th>\n",
       "      <th>educ</th>\n",
       "      <th>estatal</th>\n",
       "      <th>pobreza</th>\n",
       "      <th>male</th>\n",
       "      <th>age_sq</th>\n",
       "      <th>raza</th>\n",
       "      <th>urban</th>\n",
       "      <th>zona</th>\n",
       "      <th>h_skill</th>\n",
       "      <th>m_skill</th>\n",
       "      <th>l_skill</th>\n",
       "      <th>ramactsec</th>\n",
       "      <th>contrato</th>\n",
       "      <th>exper</th>\n",
       "      <th>exper_sq</th>\n",
       "      <th>ln_ing_lab</th>\n",
       "    </tr>\n",
       "  </thead>\n",
       "  <tbody>\n",
       "    <tr>\n",
       "      <th>0</th>\n",
       "      <td>38</td>\n",
       "      <td>0</td>\n",
       "      <td>1</td>\n",
       "      <td>0</td>\n",
       "      <td>2</td>\n",
       "      <td>1</td>\n",
       "      <td>0</td>\n",
       "      <td>1</td>\n",
       "      <td>1444</td>\n",
       "      <td>1</td>\n",
       "      <td>1</td>\n",
       "      <td>0</td>\n",
       "      <td>0</td>\n",
       "      <td>0</td>\n",
       "      <td>1</td>\n",
       "      <td>1</td>\n",
       "      <td>0.0</td>\n",
       "      <td>21</td>\n",
       "      <td>441</td>\n",
       "      <td>7.166202</td>\n",
       "    </tr>\n",
       "    <tr>\n",
       "      <th>1</th>\n",
       "      <td>50</td>\n",
       "      <td>3</td>\n",
       "      <td>1</td>\n",
       "      <td>0</td>\n",
       "      <td>1</td>\n",
       "      <td>1</td>\n",
       "      <td>0</td>\n",
       "      <td>0</td>\n",
       "      <td>2500</td>\n",
       "      <td>0</td>\n",
       "      <td>1</td>\n",
       "      <td>0</td>\n",
       "      <td>0</td>\n",
       "      <td>1</td>\n",
       "      <td>0</td>\n",
       "      <td>0</td>\n",
       "      <td>NaN</td>\n",
       "      <td>41</td>\n",
       "      <td>1681</td>\n",
       "      <td>4.840517</td>\n",
       "    </tr>\n",
       "    <tr>\n",
       "      <th>2</th>\n",
       "      <td>44</td>\n",
       "      <td>3</td>\n",
       "      <td>1</td>\n",
       "      <td>0</td>\n",
       "      <td>1</td>\n",
       "      <td>1</td>\n",
       "      <td>1</td>\n",
       "      <td>0</td>\n",
       "      <td>1936</td>\n",
       "      <td>1</td>\n",
       "      <td>1</td>\n",
       "      <td>0</td>\n",
       "      <td>0</td>\n",
       "      <td>1</td>\n",
       "      <td>0</td>\n",
       "      <td>1</td>\n",
       "      <td>0.0</td>\n",
       "      <td>32</td>\n",
       "      <td>1024</td>\n",
       "      <td>7.005562</td>\n",
       "    </tr>\n",
       "    <tr>\n",
       "      <th>3</th>\n",
       "      <td>25</td>\n",
       "      <td>4</td>\n",
       "      <td>0</td>\n",
       "      <td>0</td>\n",
       "      <td>2</td>\n",
       "      <td>1</td>\n",
       "      <td>1</td>\n",
       "      <td>1</td>\n",
       "      <td>625</td>\n",
       "      <td>1</td>\n",
       "      <td>1</td>\n",
       "      <td>0</td>\n",
       "      <td>0</td>\n",
       "      <td>0</td>\n",
       "      <td>1</td>\n",
       "      <td>2</td>\n",
       "      <td>0.0</td>\n",
       "      <td>10</td>\n",
       "      <td>100</td>\n",
       "      <td>6.904583</td>\n",
       "    </tr>\n",
       "    <tr>\n",
       "      <th>4</th>\n",
       "      <td>52</td>\n",
       "      <td>0</td>\n",
       "      <td>1</td>\n",
       "      <td>0</td>\n",
       "      <td>5</td>\n",
       "      <td>1</td>\n",
       "      <td>0</td>\n",
       "      <td>1</td>\n",
       "      <td>2704</td>\n",
       "      <td>1</td>\n",
       "      <td>1</td>\n",
       "      <td>0</td>\n",
       "      <td>1</td>\n",
       "      <td>0</td>\n",
       "      <td>0</td>\n",
       "      <td>2</td>\n",
       "      <td>0.0</td>\n",
       "      <td>30</td>\n",
       "      <td>900</td>\n",
       "      <td>8.090530</td>\n",
       "    </tr>\n",
       "  </tbody>\n",
       "</table>\n",
       "</div>"
      ],
      "text/plain": [
       "   age  civil  jefe  lenguacat  educ  estatal  pobreza  male  age_sq  raza  \\\n",
       "0   38      0     1          0     2        1        0     1    1444     1   \n",
       "1   50      3     1          0     1        1        0     0    2500     0   \n",
       "2   44      3     1          0     1        1        1     0    1936     1   \n",
       "3   25      4     0          0     2        1        1     1     625     1   \n",
       "4   52      0     1          0     5        1        0     1    2704     1   \n",
       "\n",
       "   urban  zona  h_skill  m_skill  l_skill  ramactsec  contrato  exper  \\\n",
       "0      1     0        0        0        1          1       0.0     21   \n",
       "1      1     0        0        1        0          0       NaN     41   \n",
       "2      1     0        0        1        0          1       0.0     32   \n",
       "3      1     0        0        0        1          2       0.0     10   \n",
       "4      1     0        1        0        0          2       0.0     30   \n",
       "\n",
       "   exper_sq  ln_ing_lab  \n",
       "0       441    7.166202  \n",
       "1      1681    4.840517  \n",
       "2      1024    7.005562  \n",
       "3       100    6.904583  \n",
       "4       900    8.090530  "
      ]
     },
     "execution_count": 8,
     "metadata": {},
     "output_type": "execute_result"
    }
   ],
   "source": [
    "\n",
    "                                    \n",
    "                                    ####Antes hay que transformar las categóricas (object) en formato numérico (manteniendo orden jerarquico)###\n",
    "\n",
    "Var_categorica_que_debemos_modificar = ['civil', 'lenguacat', 'educ', 'raza', 'zona', 'ramactsec']\n",
    "df_encoded = pd.get_dummies(df, columns=Var_categorica_que_debemos_modificar, drop_first=True)\n",
    "from sklearn.preprocessing import LabelEncoder\n",
    "\n",
    "# Inicializar el codificador\n",
    "label_encoder = LabelEncoder()\n",
    "\n",
    "# Aplicar a cada variable categórica\n",
    "for col in Var_categorica_que_debemos_modificar:\n",
    "    df[col] = label_encoder.fit_transform(df[col])\n",
    "\n",
    "df.head()"
   ]
  },
  {
   "cell_type": "code",
   "execution_count": 9,
   "metadata": {},
   "outputs": [],
   "source": [
    "X = df[['estatal', 'pobreza', 'male', 'age', 'age_sq', 'urban', \n",
    "        'h_skill', 'm_skill', 'l_skill', 'exper', 'exper_sq', 'civil', 'lenguacat', 'educ', 'raza', 'zona', 'ramactsec']]  \n",
    "## no estamos considerando \"Contrato\" (contiene información con missings y no se los eliminó porque implicaba la pérdida de más de la mitad de la base de datos)\n",
    "\n",
    "y = df[['ln_ing_lab']]\n",
    "\n"
   ]
  },
  {
   "cell_type": "markdown",
   "metadata": {},
   "source": [
    "MODELO LASSO: Entrenar de un modelo Lasso para la selección de variables más importantes. Este modelo debe ser entrenado con la selección de mejores parámetros a través de un GridSearch con métrica MAPE."
   ]
  },
  {
   "cell_type": "code",
   "execution_count": 10,
   "metadata": {},
   "outputs": [],
   "source": [
    "from sklearn.linear_model import Lasso\n"
   ]
  },
  {
   "cell_type": "code",
   "execution_count": 11,
   "metadata": {},
   "outputs": [],
   "source": [
    "\n",
    "                              #####ANTES ES IMPORTANTE CONSTRUIR MATEMÁTICAMENTE LAS MÉTRICAS DE EVALUACIÓN ##########\n",
    "\n",
    "\n",
    "from sklearn import metrics\n",
    "\n",
    "# Función print_evaluate(true, predicted): imprime las métricas de evaluación del modelo.\n",
    "def print_evaluate(true, predicted):  \n",
    "\n",
    "    mape = np.mean(np.abs((true - predicted) / true)) * 100  # Error porcentual absoluto medio (MAPE)\n",
    "    mpe = np.mean((true - predicted) / true) * 100  # Error porcentual medio (MPE)\n",
    "    r2_square = metrics.r2_score(true, predicted)  # Coeficiente de determinación R^2\n",
    "    \n",
    "    # Calcular el porcentaje de observaciones dentro del ±20% de MAPE\n",
    "    ape = np.abs((true - predicted) / true) * 100\n",
    "    within_20_percent = np.sum(ape <= 20) / len(true) * 100\n",
    "    \n",
    "    print('MAPE:', mape)\n",
    "    print('MPE:', mpe)\n",
    "    print('R2 Square:', r2_square)\n",
    "    print('% Observaciones en ±20% de MAPE:', within_20_percent)\n",
    "    print('__________________________________')"
   ]
  },
  {
   "cell_type": "markdown",
   "metadata": {},
   "source": [
    "ENTRENAMOS EL PRIMER MODELO (LASSO)"
   ]
  },
  {
   "cell_type": "code",
   "execution_count": 12,
   "metadata": {},
   "outputs": [],
   "source": [
    "from sklearn.model_selection import GridSearchCV, train_test_split\n",
    "from sklearn.metrics import make_scorer, mean_absolute_percentage_error\n",
    "import numpy as np\n",
    "import pandas as pd"
   ]
  },
  {
   "cell_type": "code",
   "execution_count": 13,
   "metadata": {},
   "outputs": [],
   "source": [
    "# MAPE\n",
    "mape_scorer = make_scorer(mean_absolute_percentage_error, greater_is_better=False)\n",
    "\n",
    "# Dividimos los datos\n",
    "X_train, X_test, y_train, y_test = train_test_split(X, y, test_size=0.2, random_state=42)"
   ]
  },
  {
   "cell_type": "code",
   "execution_count": 14,
   "metadata": {},
   "outputs": [
    {
     "name": "stdout",
     "output_type": "stream",
     "text": [
      "Mejor alpha: 0.0001\n",
      "MAPE en entrenamiento: 0.11588270106605773\n",
      "MAPE en prueba: 0.11703823348269954\n",
      "     Variable  Coeficiente\n",
      "0     estatal    -0.133610\n",
      "1     pobreza    -0.411162\n",
      "2        male     0.805770\n",
      "3         age     0.090205\n",
      "4      age_sq    -0.000426\n",
      "5       urban     0.189234\n",
      "6     h_skill     0.534393\n",
      "8     l_skill    -0.077059\n",
      "9       exper    -0.036644\n",
      "10   exper_sq    -0.000280\n",
      "11      civil    -0.021311\n",
      "12  lenguacat    -0.029616\n",
      "13       educ    -0.050874\n",
      "14       raza    -0.059313\n",
      "15       zona    -0.311228\n",
      "16  ramactsec     0.066085\n"
     ]
    }
   ],
   "source": [
    "# Definimos GridSearch\n",
    "param_grid = {'alpha': np.logspace(-4, 0, 50)}\n",
    "lasso = Lasso(max_iter=10000, random_state=42)\n",
    "grid_search = GridSearchCV(lasso, param_grid, scoring=mape_scorer, cv=5, n_jobs=-1)\n",
    "\n",
    "# Entrenamos el modelo\n",
    "grid_search.fit(X_train, y_train)\n",
    "\n",
    "# Buscamos el Mejor modelo y alpha\n",
    "best_lasso = grid_search.best_estimator_\n",
    "best_alpha = grid_search.best_params_['alpha']\n",
    "print(f\"Mejor alpha: {best_alpha}\")\n",
    "\n",
    "y_pred_train = best_lasso.predict(X_train)\n",
    "y_pred_test = best_lasso.predict(X_test)\n",
    "\n",
    "mape_train = mean_absolute_percentage_error(y_train, y_pred_train)\n",
    "mape_test = mean_absolute_percentage_error(y_test, y_pred_test)\n",
    "\n",
    "print(f\"MAPE en entrenamiento: {mape_train}\")\n",
    "print(f\"MAPE en prueba: {mape_test}\")\n",
    "\n",
    "# Coeficientes no nulos\n",
    "coeficientes = pd.DataFrame({\n",
    "    \"Variable\": X.columns,\n",
    "    \"Coeficiente\": best_lasso.coef_\n",
    "})\n",
    "\n",
    "variables_importantes = coeficientes[coeficientes[\"Coeficiente\"] != 0]\n",
    "print(variables_importantes)\n"
   ]
  },
  {
   "cell_type": "code",
   "execution_count": 15,
   "metadata": {},
   "outputs": [
    {
     "name": "stdout",
     "output_type": "stream",
     "text": [
      "Test set evaluation:\n",
      "_____________________________________\n",
      "MAPE: 11.7048693086773\n",
      "MPE: -2.694432761845401\n",
      "R2 Square: 0.31720020757687284\n",
      "% Observaciones en ±20% de MAPE: ln_ing_lab    84.662577\n",
      "dtype: float64\n",
      "__________________________________\n",
      "====================================\n",
      "Train set evaluation:\n",
      "_____________________________________\n",
      "MAPE: 11.588346928214435\n",
      "MPE: -2.4618921379432233\n",
      "R2 Square: 0.3410873275073816\n",
      "% Observaciones en ±20% de MAPE: ln_ing_lab    87.250384\n",
      "dtype: float64\n",
      "__________________________________\n"
     ]
    },
    {
     "name": "stderr",
     "output_type": "stream",
     "text": [
      "c:\\Python\\Python311\\Lib\\site-packages\\sklearn\\linear_model\\_coordinate_descent.py:697: ConvergenceWarning: Objective did not converge. You might want to increase the number of iterations, check the scale of the features or consider increasing regularisation. Duality gap: 7.323e+02, tolerance: 2.253e-01\n",
      "  model = cd_fast.enet_coordinate_descent(\n"
     ]
    }
   ],
   "source": [
    "\n",
    "########### PODEMOS EVALUAR DE MANERA INDEPENDIENTE EL MODELO CON LAS MÉTRICAS CREADAS #########\n",
    "################Reporte de resultados presentado las métricas MPE, MAPE, R2 y % de observaciones con +-20% de error#########\n",
    "# Entrenar el modelo\n",
    "grid_search.fit(X_train, y_train)\n",
    "model = Lasso(alpha=0.0001, random_state=42)\n",
    "model.fit(X_train, y_train)\n",
    "\n",
    "test_pred = model.predict(X_test).reshape(-1, 1)\n",
    "train_pred = model.predict(X_train).reshape(-1, 1)\n",
    "\n",
    "# Evaluar el modelo\n",
    "print('Test set evaluation:\\n_____________________________________')\n",
    "print_evaluate(y_test, test_pred)\n",
    "print('====================================')\n",
    "print('Train set evaluation:\\n_____________________________________')\n",
    "print_evaluate(y_train, train_pred)\n"
   ]
  },
  {
   "cell_type": "markdown",
   "metadata": {},
   "source": []
  },
  {
   "cell_type": "markdown",
   "metadata": {},
   "source": [
    "RANDOM FOREST: Usando las variables seleccionadas, entrenar de un modelo RandomForest con la selección de mejores parámetros. Utiliza GridSearch con métrica MAPE."
   ]
  },
  {
   "cell_type": "code",
   "execution_count": 16,
   "metadata": {},
   "outputs": [],
   "source": [
    "##Seguiremos manteniendo las mísmas variables, pues cada una de ellas tiene un efecto sobre la variable independiente##\n",
    "X = df[['estatal', 'pobreza', 'male', 'age', 'age_sq', 'urban', \n",
    "        'h_skill', 'm_skill', 'l_skill', 'exper', 'exper_sq', 'civil', 'lenguacat', 'educ', 'raza', 'zona', 'ramactsec']]  \n",
    "## no estamos considerando \"Contrato\" (contiene información con missings)\n",
    "\n",
    "y = df[['ln_ing_lab']]\n"
   ]
  },
  {
   "cell_type": "code",
   "execution_count": 17,
   "metadata": {},
   "outputs": [],
   "source": [
    "from sklearn.model_selection import GridSearchCV"
   ]
  },
  {
   "cell_type": "code",
   "execution_count": 18,
   "metadata": {},
   "outputs": [],
   "source": [
    "# scoring basado en MAPE\n",
    "mape_scorer = make_scorer(mean_absolute_percentage_error, greater_is_better=False)"
   ]
  },
  {
   "cell_type": "code",
   "execution_count": 19,
   "metadata": {},
   "outputs": [
    {
     "name": "stderr",
     "output_type": "stream",
     "text": [
      "c:\\Python\\Python311\\Lib\\site-packages\\sklearn\\base.py:1473: DataConversionWarning: A column-vector y was passed when a 1d array was expected. Please change the shape of y to (n_samples,), for example using ravel().\n",
      "  return fit_method(estimator, *args, **kwargs)\n"
     ]
    },
    {
     "name": "stdout",
     "output_type": "stream",
     "text": [
      "Test set evaluation:\n",
      "\n",
      "MAPE: 11.951571341284053\n",
      "MPE: -2.260049404196528\n",
      "R2 Square: 0.23071039825925221\n",
      "% Observaciones en ±20% de MAPE: ln_ing_lab    82.617587\n",
      "dtype: float64\n",
      "__________________________________\n",
      "----------------------------------------\n",
      "Train set evaluation:\n",
      "\n",
      "MAPE: 4.390810213398406\n",
      "MPE: -0.7395840382650007\n",
      "R2 Square: 0.8915544007911288\n",
      "% Observaciones en ±20% de MAPE: ln_ing_lab    97.747056\n",
      "dtype: float64\n",
      "__________________________________\n"
     ]
    }
   ],
   "source": [
    "from sklearn.ensemble import RandomForestRegressor\n",
    "\n",
    "rf_reg = RandomForestRegressor(n_estimators=100, random_state=35)\n",
    "# n_estimators=100: El parámetro n_estimators controla el número de árboles de decisión que se usarán\n",
    "\n",
    "\n",
    "rf_reg.fit(X_train, y_train)\n",
    "\n",
    "# Predicción:\n",
    "test_pred = rf_reg.predict(X_test)\n",
    "test_pred = test_pred.reshape(-1, 1)\n",
    "train_pred = rf_reg.predict(X_train)\n",
    "train_pred = train_pred.reshape(-1, 1)\n",
    "\n",
    "# Evaluación del modelo\n",
    "print('Test set evaluation:\\n')\n",
    "print_evaluate(y_test, test_pred)\n",
    "print('----------------------------------------')\n",
    "print('Train set evaluation:\\n')\n",
    "print_evaluate(y_train, train_pred)\n",
    "\n",
    "##########También podemos observar: el reporte de resultados de las métricas#######\n",
    "################Reporte de resultados presentado las métricas MPE, MAPE, R2 y % de observaciones con +-20% de error#########\n",
    "\n"
   ]
  },
  {
   "cell_type": "markdown",
   "metadata": {},
   "source": [
    "AHORA, hallaremos los mejores hiperparámetros\n"
   ]
  },
  {
   "cell_type": "code",
   "execution_count": 20,
   "metadata": {},
   "outputs": [
    {
     "name": "stderr",
     "output_type": "stream",
     "text": [
      "c:\\Python\\Python311\\Lib\\site-packages\\sklearn\\base.py:1473: DataConversionWarning: A column-vector y was passed when a 1d array was expected. Please change the shape of y to (n_samples,), for example using ravel().\n",
      "  return fit_method(estimator, *args, **kwargs)\n"
     ]
    },
    {
     "name": "stdout",
     "output_type": "stream",
     "text": [
      "Mejores hiperparámetros: {'n_estimators': 80}\n"
     ]
    }
   ],
   "source": [
    "\n",
    "param_grid = {\n",
    "    'n_estimators': [20, 50, 44, 80, 90],  # Valores válidos para n_estimators\n",
    "\n",
    "}\n",
    "\n",
    "# GridSearchCV\n",
    "grid_search = GridSearchCV(\n",
    "    estimator=rf_reg,\n",
    "    param_grid=param_grid,\n",
    "    cv=5,  \n",
    "    scoring='neg_mean_squared_error',\n",
    "    n_jobs=-1,)\n",
    "\n",
    "# Ejecutar el GridSearchCV\n",
    "grid_search.fit(X_train, y_train)\n",
    "print(f\"Mejores hiperparámetros: {grid_search.best_params_}\")\n"
   ]
  },
  {
   "cell_type": "code",
   "execution_count": 21,
   "metadata": {},
   "outputs": [
    {
     "name": "stderr",
     "output_type": "stream",
     "text": [
      "c:\\Python\\Python311\\Lib\\site-packages\\sklearn\\base.py:1473: DataConversionWarning: A column-vector y was passed when a 1d array was expected. Please change the shape of y to (n_samples,), for example using ravel().\n",
      "  return fit_method(estimator, *args, **kwargs)\n"
     ]
    },
    {
     "name": "stdout",
     "output_type": "stream",
     "text": [
      "Test set evaluation:\n",
      "\n",
      "MAPE: 11.931715758188794\n",
      "MPE: -2.2583347788412214\n",
      "R2 Square: 0.2338781621554381\n",
      "% Observaciones en ±20% de MAPE: ln_ing_lab    83.231084\n",
      "dtype: float64\n",
      "__________________________________\n",
      "----------------------------------------\n",
      "Train set evaluation:\n",
      "\n",
      "MAPE: 4.413832595999858\n",
      "MPE: -0.7424885523524728\n",
      "R2 Square: 0.8903669285206477\n",
      "% Observaciones en ±20% de MAPE: ln_ing_lab    97.798259\n",
      "dtype: float64\n",
      "__________________________________\n"
     ]
    }
   ],
   "source": [
    "##############UTILIZAMOS n_estimators=80 ##################\n",
    "\n",
    "rf_reg = RandomForestRegressor(n_estimators=80, random_state=35)\n",
    "# n_estimators=1000: El parámetro n_estimators controla el número de árboles de decisión que se usarán\n",
    "\n",
    "rf_reg.fit(X_train, y_train)\n",
    "\n",
    "# Predicción:\n",
    "test_pred = rf_reg.predict(X_test)\n",
    "test_pred = test_pred.reshape(-1, 1)\n",
    "train_pred = rf_reg.predict(X_train)\n",
    "train_pred = train_pred.reshape(-1, 1)\n",
    "\n",
    "# Evaluación del modelo\n",
    "print('Test set evaluation:\\n')\n",
    "print_evaluate(y_test, test_pred)\n",
    "print('----------------------------------------')\n",
    "print('Train set evaluation:\\n')\n",
    "print_evaluate(y_train, train_pred)\n"
   ]
  },
  {
   "cell_type": "markdown",
   "metadata": {},
   "source": [
    "Mejores parámetros: {'n_estimators': 80}\n",
    "Conclusión: el segundo modelo es preferible, ya que presenta:\n",
    "Menor error porcentual promedio (MAPE).\n",
    "Mayor porcentaje de observaciones dentro del ±20% de error."
   ]
  },
  {
   "cell_type": "code",
   "execution_count": 22,
   "metadata": {},
   "outputs": [
    {
     "name": "stdout",
     "output_type": "stream",
     "text": [
      "     Variable  Importancia\n",
      "6     h_skill     0.113588\n",
      "2        male     0.109233\n",
      "4      age_sq     0.100096\n",
      "3         age     0.097144\n",
      "10   exper_sq     0.095899\n",
      "9       exper     0.092974\n",
      "16  ramactsec     0.065713\n",
      "14       raza     0.064562\n",
      "11      civil     0.058647\n",
      "13       educ     0.048632\n",
      "5       urban     0.036417\n",
      "1     pobreza     0.033330\n",
      "8     l_skill     0.026182\n",
      "7     m_skill     0.025162\n",
      "0     estatal     0.022535\n",
      "15       zona     0.005313\n",
      "12  lenguacat     0.004573\n"
     ]
    }
   ],
   "source": [
    "#AHORA PDEMOS OBSERVAR LAS VARIABLES MÁS IMPORTANTES ##\n",
    "\n",
    " \n",
    "#  Importancia de las variables\n",
    "importances = rf_reg.feature_importances_\n",
    "\n",
    "# Crear un DataFrame para visualizar\n",
    "import pandas as pd\n",
    "importance_df = pd.DataFrame({\n",
    "    'Variable': X.columns,\n",
    "    'Importancia': importances\n",
    "}).sort_values(by='Importancia', ascending=False)\n",
    "\n",
    "print(importance_df)\n",
    "\n"
   ]
  },
  {
   "cell_type": "code",
   "execution_count": 23,
   "metadata": {},
   "outputs": [
    {
     "data": {
      "image/png": "[encoded data removed]",
      "text/plain": [
       "<Figure size 1200x600 with 1 Axes>"
      ]
     },
     "metadata": {},
     "output_type": "display_data"
    }
   ],
   "source": [
    "\n",
    "# Simulación de errores\n",
    "np.random.seed(42)\n",
    "train_errors = np.random.normal(loc=0.05, scale=0.02, size=200)  \n",
    "test_errors = np.random.normal(loc=0.06, scale=0.03, size=50)   \n",
    "# Visualización de las distribuciones\n",
    "plt.figure(figsize=(12, 6))\n",
    "plt.hist(train_errors, bins=20, alpha=0.7, label='Errores de entrenamiento', color='blue', edgecolor='black', density=True)\n",
    "plt.hist(test_errors, bins=20, alpha=0.7, label='Errores de prueba', color='skyblue', edgecolor='black', density=True)\n",
    "\n",
    "plt.title('Simulación de la distribución de los errores', fontsize=14)\n",
    "plt.xlabel('Error', fontsize=12)\n",
    "plt.ylabel('Densidad', fontsize=12)\n",
    "plt.legend(fontsize=12)\n",
    "plt.grid(axis='y', alpha=0.75)\n",
    "plt.show()\n"
   ]
  },
  {
   "cell_type": "markdown",
   "metadata": {},
   "source": [
    "Cross validation con métrica MAPE para evaluar la robustez del modelo. (2 puntos)"
   ]
  },
  {
   "cell_type": "code",
   "execution_count": 24,
   "metadata": {},
   "outputs": [],
   "source": [
    "# Creamos un score personalizado para MAPE\n",
    "from sklearn.metrics import make_scorer, mean_absolute_percentage_error\n",
    "mape_scorer = make_scorer(mean_absolute_percentage_error, greater_is_better=False)"
   ]
  },
  {
   "cell_type": "code",
   "execution_count": 25,
   "metadata": {},
   "outputs": [
    {
     "name": "stdout",
     "output_type": "stream",
     "text": [
      "CV MAPE Scores: [0.11212599 0.12257168 0.11988359 0.11261053 0.11763788]\n",
      "Mean CV MAPE: 0.11696593511789628\n"
     ]
    },
    {
     "name": "stderr",
     "output_type": "stream",
     "text": [
      "c:\\Python\\Python311\\Lib\\site-packages\\sklearn\\linear_model\\_coordinate_descent.py:697: ConvergenceWarning: Objective did not converge. You might want to increase the number of iterations, check the scale of the features or consider increasing regularisation. Duality gap: 5.974e+02, tolerance: 1.799e-01\n",
      "  model = cd_fast.enet_coordinate_descent(\n",
      "c:\\Python\\Python311\\Lib\\site-packages\\sklearn\\linear_model\\_coordinate_descent.py:697: ConvergenceWarning: Objective did not converge. You might want to increase the number of iterations, check the scale of the features or consider increasing regularisation. Duality gap: 5.613e+02, tolerance: 1.810e-01\n",
      "  model = cd_fast.enet_coordinate_descent(\n",
      "c:\\Python\\Python311\\Lib\\site-packages\\sklearn\\linear_model\\_coordinate_descent.py:697: ConvergenceWarning: Objective did not converge. You might want to increase the number of iterations, check the scale of the features or consider increasing regularisation. Duality gap: 5.788e+02, tolerance: 1.789e-01\n",
      "  model = cd_fast.enet_coordinate_descent(\n",
      "c:\\Python\\Python311\\Lib\\site-packages\\sklearn\\linear_model\\_coordinate_descent.py:697: ConvergenceWarning: Objective did not converge. You might want to increase the number of iterations, check the scale of the features or consider increasing regularisation. Duality gap: 5.889e+02, tolerance: 1.817e-01\n",
      "  model = cd_fast.enet_coordinate_descent(\n",
      "c:\\Python\\Python311\\Lib\\site-packages\\sklearn\\linear_model\\_coordinate_descent.py:697: ConvergenceWarning: Objective did not converge. You might want to increase the number of iterations, check the scale of the features or consider increasing regularisation. Duality gap: 5.844e+02, tolerance: 1.795e-01\n",
      "  model = cd_fast.enet_coordinate_descent(\n"
     ]
    }
   ],
   "source": [
    "from sklearn.model_selection import cross_val_score\n",
    "\n",
    "# Realizar una validación cruzada con los mejores hiperparámetros utilizando MAPE\n",
    "cv_scores = cross_val_score(model, X_train, y_train, cv=5, scoring=mape_scorer)\n",
    "# Convertir los scores negativos a positivos\n",
    "cv_mape_scores = -cv_scores\n",
    "# Calcular el promedio y la desviación estándar del MAPE\n",
    "mean_cv_mape = np.mean(cv_mape_scores)\n",
    "std_cv_mape = np.std(cv_mape_scores)\n",
    "# Observamos los resultado en cada grupo\n",
    "print(f\"CV MAPE Scores: {cv_mape_scores}\")\n",
    "print(f\"Mean CV MAPE: {mean_cv_mape}\")"
   ]
  },
  {
   "cell_type": "markdown",
   "metadata": {},
   "source": [
    "En base a los resultados, consideramos que es robusto dada la consistencia del MAPE, ya que este no varía significativamente. Esto se puede apreciar por la media del MAPE es cercana al MAPE score (se comporta de manera estable)"
   ]
  }
 ],
 "metadata": {
  "kernelspec": {
   "display_name": "Python 3",
   "language": "python",
   "name": "python3"
  },
  "language_info": {
   "codemirror_mode": {
    "name": "ipython",
    "version": 3
   },
   "file_extension": ".py",
   "mimetype": "text/x-python",
   "name": "python",
   "nbconvert_exporter": "python",
   "pygments_lexer": "ipython3",
   "version": "3.11.9"
  }
 },
 "nbformat": 4,
 "nbformat_minor": 2
}
